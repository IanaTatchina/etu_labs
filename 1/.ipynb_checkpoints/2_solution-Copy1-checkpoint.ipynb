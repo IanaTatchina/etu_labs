{
 "cells": [
  {
   "cell_type": "markdown",
   "metadata": {},
   "source": [
    "### Given a list, find the int that appears an odd number of times."
   ]
  },
  {
   "cell_type": "code",
   "execution_count": 22,
   "metadata": {},
   "outputs": [
    {
     "name": "stdout",
     "output_type": "stream",
     "text": [
      "[1, 5, 3, 7]\n"
     ]
    }
   ],
   "source": [
    "arr = [1, 2, 5, 3, 7, 24, 68]\n",
    "\n",
    "res = []\n",
    "for num in arr:\n",
    "    if num % 2:\n",
    "        res.append(num)\n",
    "        \n",
    "print(res)"
   ]
  },
  {
   "cell_type": "markdown",
   "metadata": {},
   "source": [
    "### You get a list of numbers, return the sum of all of the positives ones.\n",
    "#### Example [1, -4, 7, 12] => 1 + 7 + 12 = 20\n",
    "#### Note: if there is nothing to sum, the sum is default to 0."
   ]
  },
  {
   "cell_type": "code",
   "execution_count": 23,
   "metadata": {},
   "outputs": [
    {
     "name": "stdout",
     "output_type": "stream",
     "text": [
      "20\n"
     ]
    }
   ],
   "source": [
    "arr = [1, -4, 7, 12]\n",
    "\n",
    "positive = []\n",
    "for num in arr:\n",
    "    if num >= 0:\n",
    "        positive.append(num)\n",
    "\n",
    "res = sum(positive)\n",
    "\n",
    "print(res)"
   ]
  },
  {
   "cell_type": "markdown",
   "metadata": {},
   "source": [
    "### Given an array of integers, find the pair of adjacent elements that has the largest product and return that product.\n",
    "#### For input_array = [3, 6, -2, -5, 7, 3], the output should be  21.\n",
    "#### 7 and 3 produce the largest product."
   ]
  },
  {
   "cell_type": "code",
   "execution_count": 24,
   "metadata": {},
   "outputs": [
    {
     "name": "stdout",
     "output_type": "stream",
     "text": [
      "21\n"
     ]
    }
   ],
   "source": [
    "arr = [3, 6, -2, -5, 7, 3]\n",
    "\n",
    "candidates = []\n",
    "while len(arr) >= 2:\n",
    "    mult = arr[0] * arr[1]\n",
    "    candidates.append(mult)\n",
    "    del arr[0]\n",
    "    \n",
    "res = max(candidates)\n",
    "print(res)"
   ]
  },
  {
   "cell_type": "markdown",
   "metadata": {},
   "source": [
    "### You are going to be given a word. Your job is to return the middle character of the word. If the word's length is odd, return the middle character. If the word's length is even, return the middle 2 characters.\n",
    "\n",
    "#### Examples:\n",
    "\n",
    "#### \"test\" should return \"es\"\n",
    "\n",
    "#### \"testing\" should return \"t\"\n",
    "\n",
    "#### \"middle\" should return \"dd\"\n",
    "\n",
    "#### \"A\" should return \"A\""
   ]
  },
  {
   "cell_type": "code",
   "execution_count": 44,
   "metadata": {},
   "outputs": [
    {
     "name": "stdout",
     "output_type": "stream",
     "text": [
      "t\n"
     ]
    }
   ],
   "source": [
    "word = 'testing'\n",
    "res = ''\n",
    "\n",
    "middle_position = len(word) // 2\n",
    "if len(word) % 2:\n",
    "    res = word[middle_position]\n",
    "else:\n",
    "    res = word[middle_position - 1 : middle_position + 1]\n",
    "\n",
    "print(res)"
   ]
  },
  {
   "cell_type": "markdown",
   "metadata": {},
   "source": [
    "### Given an array of strings, return another array containing all of its longest strings.\n",
    "#### For input_array = ['aba', 'aa', 'ad', 'vcd', 'aba', 'arte'], the output should be ['aba', 'vcd', 'aba']."
   ]
  },
  {
   "cell_type": "code",
   "execution_count": 47,
   "metadata": {},
   "outputs": [
    {
     "name": "stdout",
     "output_type": "stream",
     "text": [
      "['arte']\n"
     ]
    }
   ],
   "source": [
    "arr = ['aba', 'aa', 'ad', 'vcd', 'aba', 'arte']\n",
    "\n",
    "sorted_by_length = sorted(arr, key=len)\n",
    "max_length = len(arr[-1])\n",
    "\n",
    "res = []\n",
    "for word in arr:\n",
    "    if len(word) == max_length:\n",
    "        res.append(word)\n",
    "        \n",
    "print(res)"
   ]
  },
  {
   "cell_type": "markdown",
   "metadata": {},
   "source": [
    "### You have a string of one or more words, your job is to return the same string, but with all five or more letter words reversed. Strings passed in will consist of only letters and spaces. Spaces will be included only when more than one word is present."
   ]
  },
  {
   "cell_type": "markdown",
   "metadata": {},
   "source": [
    "####  \"Hey fellow warriors\"  returns \"Hey wollef sroirraw\" \n",
    "####  \"This is a test\" returns \"This is a test\" \n",
    "#### \"This is another test\" returns \"This is rehtona test\""
   ]
  },
  {
   "cell_type": "code",
   "execution_count": 49,
   "metadata": {},
   "outputs": [
    {
     "name": "stdout",
     "output_type": "stream",
     "text": [
      "Hey wollef sroirraw\n"
     ]
    }
   ],
   "source": [
    "input_str = 'Hey fellow warriors'\n",
    "separator = ' '\n",
    "\n",
    "res = []\n",
    "\n",
    "words = input_str.split(separator)\n",
    "for word in words:\n",
    "    if len(word) < 5:\n",
    "        res.append(word)\n",
    "    else:\n",
    "        res.append(word[::-1])\n",
    "\n",
    "res = separator.join(res)\n",
    "\n",
    "print(res)"
   ]
  },
  {
   "cell_type": "markdown",
   "metadata": {},
   "source": [
    "### Write a Python script to print a dictionary where the keys are numbers between 1 and 15 (both included) and the values are square of keys."
   ]
  },
  {
   "cell_type": "code",
   "execution_count": 62,
   "metadata": {},
   "outputs": [
    {
     "name": "stdout",
     "output_type": "stream",
     "text": [
      "{1: 1, 2: 4, 3: 9, 4: 16, 5: 25, 6: 36, 7: 49, 8: 64, 9: 81, 10: 100, 11: 121, 12: 144, 13: 169, 14: 196, 15: 225}\n"
     ]
    }
   ],
   "source": [
    "d = {}\n",
    "\n",
    "for key in range(1, 16):\n",
    "    d[key] = key ** 2\n",
    "    \n",
    "print(d)"
   ]
  },
  {
   "cell_type": "code",
   "execution_count": null,
   "metadata": {
    "collapsed": true
   },
   "outputs": [],
   "source": []
  },
  {
   "cell_type": "markdown",
   "metadata": {},
   "source": [
    "### Write a Python script, which give a solution of quadratic equation. The coefficients are represented as a dictionary."
   ]
  },
  {
   "cell_type": "code",
   "execution_count": 87,
   "metadata": {},
   "outputs": [
    {
     "name": "stdout",
     "output_type": "stream",
     "text": [
      "No solutions\n"
     ]
    }
   ],
   "source": [
    "import math\n",
    "\n",
    "eq = {\n",
    "    'a': 1,\n",
    "    'b': 2,\n",
    "    'c': 3,\n",
    "}\n",
    "\n",
    "discriminant = (eq['b'] ** 2) - (4 * eq['a'] * eq['c'])\n",
    "\n",
    "if discriminant < 0:\n",
    "    print('No solutions')\n",
    "else:\n",
    "    solution_1 = (-eq['b'] - math.sqrt(discriminant)) / 2 * eq['a']\n",
    "    solution_2 = (-eq['b'] + math.sqrt(discriminant)) / 2 * eq['a']\n",
    "    print(solution_1, solution_2)"
   ]
  },
  {
   "cell_type": "code",
   "execution_count": null,
   "metadata": {
    "collapsed": true
   },
   "outputs": [],
   "source": []
  }
 ],
 "metadata": {
  "kernelspec": {
   "display_name": "Python 3",
   "language": "python",
   "name": "python3"
  },
  "language_info": {
   "codemirror_mode": {
    "name": "ipython",
    "version": 3
   },
   "file_extension": ".py",
   "mimetype": "text/x-python",
   "name": "python",
   "nbconvert_exporter": "python",
   "pygments_lexer": "ipython3",
   "version": "3.6.3"
  }
 },
 "nbformat": 4,
 "nbformat_minor": 2
}
