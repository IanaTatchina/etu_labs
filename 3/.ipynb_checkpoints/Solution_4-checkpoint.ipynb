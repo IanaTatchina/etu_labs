{
 "cells": [
  {
   "cell_type": "code",
   "execution_count": null,
   "metadata": {
    "collapsed": true
   },
   "outputs": [],
   "source": [
    "def fibonacci(n):\n",
    "    fib1, fib2 = 0, 1\n",
    "    for i in range(n):\n",
    "        fib1, fib2 = fib2, fib1 + fib2\n",
    "        yield fib1"
   ]
  },
  {
   "cell_type": "code",
   "execution_count": null,
   "metadata": {
    "collapsed": true
   },
   "outputs": [],
   "source": [
    "a = fibonacci(200)"
   ]
  },
  {
   "cell_type": "code",
   "execution_count": null,
   "metadata": {
    "collapsed": true
   },
   "outputs": [],
   "source": []
  },
  {
   "cell_type": "code",
   "execution_count": null,
   "metadata": {
    "collapsed": true
   },
   "outputs": [],
   "source": []
  },
  {
   "cell_type": "code",
   "execution_count": null,
   "metadata": {
    "collapsed": true
   },
   "outputs": [],
   "source": []
  },
  {
   "cell_type": "code",
   "execution_count": 1,
   "metadata": {
    "collapsed": true
   },
   "outputs": [],
   "source": [
    "input_str = ''\n",
    "\n",
    "with open('1.txt', 'r') as inf:\n",
    "    first_str = inf.readline().strip()\n",
    "    input_str += first_str"
   ]
  },
  {
   "cell_type": "code",
   "execution_count": 4,
   "metadata": {
    "collapsed": true
   },
   "outputs": [],
   "source": [
    "def count_letters(input_str):\n",
    "    try:\n",
    "        result = ''\n",
    "        counter = 1\n",
    "        for i, char in enumerate(input_str):\n",
    "            res_letter = ''\n",
    "            if char == input_str[i + 1]:\n",
    "                counter += 1\n",
    "            else: \n",
    "                res_letter = char + str(counter)\n",
    "                counter = 1\n",
    "            result += res_letter\n",
    "    except IndexError:\n",
    "        result += char + str(counter)\n",
    "        return result       "
   ]
  },
  {
   "cell_type": "code",
   "execution_count": 5,
   "metadata": {
    "collapsed": true
   },
   "outputs": [],
   "source": [
    "a = count_letters(input_str)"
   ]
  },
  {
   "cell_type": "code",
   "execution_count": 6,
   "metadata": {
    "collapsed": true
   },
   "outputs": [],
   "source": [
    "with open('1.txt', 'w') as inf:\n",
    "    inf.write(a)"
   ]
  },
  {
   "cell_type": "code",
   "execution_count": 7,
   "metadata": {},
   "outputs": [
    {
     "name": "stdout",
     "output_type": "stream",
     "text": [
      "a3b3c3s1"
     ]
    }
   ],
   "source": [
    "!cat 1.txt"
   ]
  },
  {
   "cell_type": "code",
   "execution_count": null,
   "metadata": {
    "collapsed": true
   },
   "outputs": [],
   "source": []
  },
  {
   "cell_type": "code",
   "execution_count": null,
   "metadata": {
    "collapsed": true
   },
   "outputs": [],
   "source": []
  },
  {
   "cell_type": "code",
   "execution_count": 2,
   "metadata": {},
   "outputs": [],
   "source": [
    "def counter(file_name):\n",
    "    lines = 0\n",
    "    words = 0\n",
    "    characters = 0\n",
    "    punctuation = [' ', '.', ',', ':', ';']\n",
    "    \n",
    "    for line in open(file_name):\n",
    "        print(line)\n",
    "        lines += 1\n",
    "        characters += len(line)\n",
    "        \n",
    "        # Флаг, сигнализирующий нахождение за пределами слова.\n",
    "        pos = 'out'\n",
    "        for letter in line:\n",
    "            \n",
    "        # Если очередной символ не пробел, а флаг в значении \"вне слова\",\n",
    "        # то значит начинается новое слово.\n",
    "            if letter not in punctuation and pos == 'out':\n",
    "                words += 1\n",
    "          # а флаг поменять на значение \"внутри слова\".\n",
    "                pos = 'in'\n",
    "           # то следует установить флаг в значение \"вне слова\".\n",
    "            elif letter in punctuation:\n",
    "                pos = 'out'\n",
    "        \n",
    "    print('Lines:', lines)\n",
    "    print('Words:', words)\n",
    "    print('Characters:', characters)"
   ]
  },
  {
   "cell_type": "code",
   "execution_count": 3,
   "metadata": {},
   "outputs": [
    {
     "name": "stdout",
     "output_type": "stream",
     "text": [
      "shjdkfgkljh,kdjfks\n",
      "\n",
      "dflkvnldfnv\n",
      "\n",
      "ijhfd\n",
      "\n",
      "435\n",
      "\n",
      "Lines: 4\n",
      "Words: 5\n",
      "Characters: 41\n"
     ]
    }
   ],
   "source": [
    "counter('2.txt')"
   ]
  },
  {
   "cell_type": "code",
   "execution_count": null,
   "metadata": {
    "collapsed": true
   },
   "outputs": [],
   "source": []
  },
  {
   "cell_type": "code",
   "execution_count": null,
   "metadata": {
    "collapsed": true
   },
   "outputs": [],
   "source": []
  },
  {
   "cell_type": "code",
   "execution_count": 10,
   "metadata": {
    "collapsed": true
   },
   "outputs": [],
   "source": [
    "with open('test.csv', 'r') as f:\n",
    "    data = [l.strip() for l in f.readlines()]"
   ]
  },
  {
   "cell_type": "code",
   "execution_count": 11,
   "metadata": {
    "collapsed": true
   },
   "outputs": [],
   "source": [
    "headers = data[0].split(';')\n",
    "\n",
    "rows = [l.split(';') for l in data[1:]]"
   ]
  },
  {
   "cell_type": "code",
   "execution_count": 12,
   "metadata": {
    "collapsed": true
   },
   "outputs": [],
   "source": [
    "html = ''\n",
    "html += '<h1>Cars Dataset</h1>'\n",
    "html += '<hr />'\n",
    "\n",
    "html += '<table>'\n",
    "\n",
    "html += '<thead>'\n",
    "html += '<tr>'\n",
    "    \n",
    "for header in headers:\n",
    "    html += f'<th>{header}</th>'\n",
    "\n",
    "html += '</tr>'\n",
    "html += '</thead>'\n",
    "\n",
    "html += '<tbody>'\n",
    "\n",
    "for row in rows:\n",
    "    html += '<tr>'\n",
    "    for value in row:\n",
    "        html += f'<td>{value}</td>'\n",
    "    html += '</tr>'\n",
    "    \n",
    "html += '</tbody>'\n",
    "html += '</table>'"
   ]
  },
  {
   "cell_type": "code",
   "execution_count": 13,
   "metadata": {
    "collapsed": true
   },
   "outputs": [],
   "source": [
    "with open('test.html', 'w') as f:\n",
    "    f.write(html)"
   ]
  },
  {
   "cell_type": "code",
   "execution_count": null,
   "metadata": {
    "collapsed": true
   },
   "outputs": [],
   "source": []
  },
  {
   "cell_type": "code",
   "execution_count": null,
   "metadata": {
    "collapsed": true
   },
   "outputs": [],
   "source": []
  },
  {
   "cell_type": "code",
   "execution_count": null,
   "metadata": {
    "collapsed": true
   },
   "outputs": [],
   "source": []
  }
 ],
 "metadata": {
  "kernelspec": {
   "display_name": "Python 3",
   "language": "python",
   "name": "python3"
  },
  "language_info": {
   "codemirror_mode": {
    "name": "ipython",
    "version": 3
   },
   "file_extension": ".py",
   "mimetype": "text/x-python",
   "name": "python",
   "nbconvert_exporter": "python",
   "pygments_lexer": "ipython3",
   "version": "3.6.3"
  }
 },
 "nbformat": 4,
 "nbformat_minor": 2
}
