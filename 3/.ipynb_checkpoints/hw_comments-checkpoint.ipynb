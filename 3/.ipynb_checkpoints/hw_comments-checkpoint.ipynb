{
 "cells": [
  {
   "cell_type": "code",
   "execution_count": null,
   "metadata": {
    "collapsed": true
   },
   "outputs": [],
   "source": [
    "arr1 = [1, 2, 3, 4, 5]\n",
    "arr2 = [6, 7, 8, 9, 1]\n",
    "def merge(arr1, arr2):\n",
    "    arr3 = list(set(arr1 + arr2))\n",
    "    arr3.sort()\n",
    "    return arr3   \n",
    "print (merge(arr1, arr2))  # для вызова функции используют merge(arr1, arr2) "
   ]
  },
  {
   "cell_type": "code",
   "execution_count": null,
   "metadata": {
    "collapsed": true
   },
   "outputs": [],
   "source": []
  },
  {
   "cell_type": "code",
   "execution_count": null,
   "metadata": {
    "collapsed": true
   },
   "outputs": [],
   "source": [
    "x = input()\n",
    "def revers(x):\n",
    "    x = x.split()\n",
    "    x.reverse()\n",
    "    for i in x:\n",
    "        print(i, end=' ')\n",
    "    print()\n",
    "revers(x)\n",
    "\n",
    "# перепишите функцию, используя comprehensions"
   ]
  },
  {
   "cell_type": "code",
   "execution_count": null,
   "metadata": {
    "collapsed": true
   },
   "outputs": [],
   "source": []
  },
  {
   "cell_type": "code",
   "execution_count": null,
   "metadata": {
    "collapsed": true
   },
   "outputs": [],
   "source": []
  },
  {
   "cell_type": "code",
   "execution_count": 5,
   "metadata": {},
   "outputs": [],
   "source": [
    "def shell(A):\n",
    "    t=int(len(A)/2)  \n",
    "    while t>0:\n",
    "        for i in range (len(A)-t):\n",
    "            while i>=0 and A[i] > A[i+t]:\n",
    "                A[i], A[i+t] =  A[i+t], A[i]\n",
    "                i-=1\n",
    "        t = int(t/2)\n",
    "    return A  # пишите через return функции\n",
    "A=[2, 5, 1, 4, 10, 0, 9, 6, 3]\n",
    "# shell(A)\n",
    "# print (A)\n",
    "\n",
    "# все хорошо, задание принято, но обратите внимание на style guide, вам очень не хватает пробелов"
   ]
  },
  {
   "cell_type": "code",
   "execution_count": 6,
   "metadata": {},
   "outputs": [
    {
     "data": {
      "text/plain": [
       "[0, 1, 2, 3, 4, 5, 6, 9, 10]"
      ]
     },
     "execution_count": 6,
     "metadata": {},
     "output_type": "execute_result"
    }
   ],
   "source": [
    "shell(A)"
   ]
  },
  {
   "cell_type": "code",
   "execution_count": null,
   "metadata": {
    "collapsed": true
   },
   "outputs": [],
   "source": []
  }
 ],
 "metadata": {
  "kernelspec": {
   "display_name": "Python 3",
   "language": "python",
   "name": "python3"
  },
  "language_info": {
   "codemirror_mode": {
    "name": "ipython",
    "version": 3
   },
   "file_extension": ".py",
   "mimetype": "text/x-python",
   "name": "python",
   "nbconvert_exporter": "python",
   "pygments_lexer": "ipython3",
   "version": "3.6.3"
  }
 },
 "nbformat": 4,
 "nbformat_minor": 2
}
