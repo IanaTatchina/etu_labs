{
 "cells": [
  {
   "cell_type": "markdown",
   "metadata": {},
   "source": [
    "### Написать функцию, которая \"сжимает\" повторяющиеся символы в строке.\n",
    "Кодирование осуществляется следующим образом:\n",
    "s = 'aaaabbсaa' преобразуется в 'a4b2с1a2', то есть группы одинаковых символов исходной строки заменяются на этот символ и количество его повторений в этой позиции строки.\n",
    "\n",
    "Необходимо считать данные из файла и перезаписать ответ"
   ]
  },
  {
   "cell_type": "code",
   "execution_count": 61,
   "metadata": {},
   "outputs": [
    {
     "name": "stdout",
     "output_type": "stream",
     "text": [
      "aaabbbcccs\r\n"
     ]
    }
   ],
   "source": [
    "!cat 1.txt"
   ]
  },
  {
   "cell_type": "code",
   "execution_count": 66,
   "metadata": {
    "collapsed": true
   },
   "outputs": [],
   "source": [
    "input_str = ''\n",
    "with open('1.txt', 'r') as f:\n",
    "    first_str = f.readline().strip()\n",
    "    input_str += first_str"
   ]
  },
  {
   "cell_type": "code",
   "execution_count": 67,
   "metadata": {},
   "outputs": [
    {
     "data": {
      "text/plain": [
       "'aaabbbcccs'"
      ]
     },
     "execution_count": 67,
     "metadata": {},
     "output_type": "execute_result"
    }
   ],
   "source": [
    "input_str"
   ]
  },
  {
   "cell_type": "code",
   "execution_count": 72,
   "metadata": {
    "collapsed": true
   },
   "outputs": [],
   "source": [
    "def count_letters(input_str):\n",
    "    \n",
    "    try:\n",
    "        result = ''\n",
    "        counter = 1\n",
    "\n",
    "        for i, char in enumerate(input_str):\n",
    "            if char == input_str[i + 1]:\n",
    "                counter += 1\n",
    "            else:\n",
    "                result += char + str(counter)\n",
    "                counter = 1\n",
    "    except IndexError:\n",
    "        result += char + str(counter)\n",
    "        return result\n",
    "    "
   ]
  },
  {
   "cell_type": "code",
   "execution_count": 73,
   "metadata": {},
   "outputs": [
    {
     "data": {
      "text/plain": [
       "'a3b3c3s1'"
      ]
     },
     "execution_count": 73,
     "metadata": {},
     "output_type": "execute_result"
    }
   ],
   "source": [
    "count_letters(input_str)"
   ]
  },
  {
   "cell_type": "code",
   "execution_count": 74,
   "metadata": {
    "collapsed": true
   },
   "outputs": [],
   "source": [
    "a = count_letters(input_str)"
   ]
  },
  {
   "cell_type": "code",
   "execution_count": 75,
   "metadata": {
    "collapsed": true
   },
   "outputs": [],
   "source": [
    "with open('1.txt', 'w') as f:\n",
    "    f.write(a)"
   ]
  },
  {
   "cell_type": "code",
   "execution_count": 76,
   "metadata": {},
   "outputs": [
    {
     "name": "stdout",
     "output_type": "stream",
     "text": [
      "a3b3c3s1"
     ]
    }
   ],
   "source": [
    "!cat 1.txt"
   ]
  },
  {
   "cell_type": "markdown",
   "metadata": {},
   "source": [
    "### Написать функцию, которая считает количество строк, слов и символов в файле"
   ]
  },
  {
   "cell_type": "code",
   "execution_count": 77,
   "metadata": {},
   "outputs": [
    {
     "name": "stdout",
     "output_type": "stream",
     "text": [
      "shjdkfgkljh,kdjfks\r\n",
      "dflkvnldfnv\r\n",
      "ijhfd\r\n",
      "435\r\n"
     ]
    }
   ],
   "source": [
    "!cat 2.txt"
   ]
  },
  {
   "cell_type": "code",
   "execution_count": 96,
   "metadata": {
    "collapsed": true
   },
   "outputs": [],
   "source": [
    "def counter(file_name):\n",
    "    lines = 0\n",
    "    words = 0\n",
    "    char = 0\n",
    "    puncuation = [' ', ',', '.', ':', ';', '-']\n",
    "    \n",
    "    for line in open(file_name):\n",
    "        lines += 1\n",
    "        char += len(line)\n",
    "        \n",
    "        pos = 'out'\n",
    "        for letter in line:\n",
    "            if letter not in puncuation and pos == 'out':\n",
    "                words += 1\n",
    "                pos = 'in'\n",
    "            elif letter in puncuation:\n",
    "                pos = 'out'        \n",
    "        \n",
    "    return lines, char, words"
   ]
  },
  {
   "cell_type": "code",
   "execution_count": 97,
   "metadata": {},
   "outputs": [
    {
     "data": {
      "text/plain": [
       "(4, 42, 5)"
      ]
     },
     "execution_count": 97,
     "metadata": {},
     "output_type": "execute_result"
    }
   ],
   "source": [
    "counter('2.txt')"
   ]
  },
  {
   "cell_type": "code",
   "execution_count": null,
   "metadata": {
    "collapsed": true
   },
   "outputs": [],
   "source": []
  },
  {
   "cell_type": "markdown",
   "metadata": {},
   "source": [
    "### h1-h6 -\tcоздают заголовки шести уровней для связанных с ними разделов.\n",
    "### hr\t- горизонтальная линия для тематического разделения параграфов.\n",
    "### table -\tтег для создания таблицы.\n",
    "### thead - oпределяет заголовок таблицы.\n",
    "### tr\t- cоздает строку таблицы.\n",
    "### th\t- cоздает заголовок ячейки таблицы.\n",
    "### tbody\t- oпределяет тело таблицы."
   ]
  },
  {
   "cell_type": "code",
   "execution_count": 98,
   "metadata": {},
   "outputs": [
    {
     "name": "stdout",
     "output_type": "stream",
     "text": [
      "Obs;Make;Model;Type;Origin;DriveTrain;MSRP;Invoice;EngineSize;Cylinders;Horsepower;MPG_City;MPG_Highway;Weight;Wheelbase;Length\r",
      "\r\n",
      "1;Acura;MDX;SUV;Asia;All;$36,945;$33,337;3.5;6;265;17;23;4451;106;189\r",
      "\r\n",
      "2;Acura;RSX Type S 2dr;Sedan;Asia;Front;$23,820;$21,761;2;4;200;24;31;2778;101;172\r",
      "\r\n",
      "3;Acura;TSX 4dr;Sedan;Asia;Front;$26,990;$24,647;2.4;4;200;22;29;3230;105;183\r",
      "\r\n",
      "4;Acura;TL 4dr;Sedan;Asia;Front;$33,195;$30,299;3.2;6;270;20;28;3575;108;186\r",
      "\r\n",
      "5;Acura;3.5 RL 4dr;Sedan;Asia;Front;$43,755;$39,014;3.5;6;225;18;24;3880;115;197\r",
      "\r\n",
      "6;Acura;3.5 RL w/Navigation 4dr;Sedan;Asia;Front;$46,100;$41,100;3.5;6;225;18;24;3893;115;197\r",
      "\r\n",
      "7;Acura;NSX coupe 2dr manual S;Sports;Asia;Rear;$89,765;$79,978;3.2;6;290;17;24;3153;100;174\r",
      "\r\n",
      "8;Audi;A4 1.8T 4dr;Sedan;Europe;Front;$25,940;$23,508;1.8;4;170;22;31;3252;104;179\r",
      "\r\n",
      "9;Audi;A41.8T convertible 2dr;Sedan;Europe;Front;$35,940;$32,506;1.8;4;170;23;30;3638;105;180\r",
      "\r\n"
     ]
    }
   ],
   "source": [
    "!cat test.csv"
   ]
  },
  {
   "cell_type": "code",
   "execution_count": null,
   "metadata": {
    "collapsed": true
   },
   "outputs": [],
   "source": []
  },
  {
   "cell_type": "code",
   "execution_count": 99,
   "metadata": {
    "collapsed": true
   },
   "outputs": [],
   "source": [
    "with open('test.csv', 'r') as f:\n",
    "    data = [l.strip() for l in f.readlines()]"
   ]
  },
  {
   "cell_type": "code",
   "execution_count": 102,
   "metadata": {
    "collapsed": true
   },
   "outputs": [],
   "source": [
    "headers = data[0].split(';')"
   ]
  },
  {
   "cell_type": "code",
   "execution_count": 104,
   "metadata": {
    "collapsed": true
   },
   "outputs": [],
   "source": [
    "rows = [l.split(';') for l in data[1:]]"
   ]
  },
  {
   "cell_type": "code",
   "execution_count": 106,
   "metadata": {
    "collapsed": true
   },
   "outputs": [],
   "source": [
    "html = ''\n",
    "html += '<h1>Cars Dataset</h1>'\n",
    "\n",
    "html += '<table>'\n",
    "html += '<thead>'\n",
    "html += '<tr>'\n",
    "\n",
    "for header in headers:\n",
    "    html += f'<th>{header}</th>'\n",
    "\n",
    "html += '</tr>'\n",
    "html += '</thead>'\n",
    "\n",
    "html += '<tbody>'\n",
    "\n",
    "for row in rows:\n",
    "    html += '<tr>'\n",
    "    for value in row:\n",
    "        html += f'<td>{value}</td>'\n",
    "    html += '</tr>'\n",
    "\n",
    "html += '</tbody>'\n",
    "html += '</table>'\n"
   ]
  },
  {
   "cell_type": "code",
   "execution_count": 107,
   "metadata": {
    "collapsed": true
   },
   "outputs": [],
   "source": [
    "with open('test.html', 'w') as f:\n",
    "    f.write(html)"
   ]
  },
  {
   "cell_type": "code",
   "execution_count": null,
   "metadata": {
    "collapsed": true
   },
   "outputs": [],
   "source": []
  },
  {
   "cell_type": "code",
   "execution_count": null,
   "metadata": {
    "collapsed": true
   },
   "outputs": [],
   "source": []
  },
  {
   "cell_type": "code",
   "execution_count": null,
   "metadata": {
    "collapsed": true
   },
   "outputs": [],
   "source": []
  }
 ],
 "metadata": {
  "kernelspec": {
   "display_name": "Python 3",
   "language": "python",
   "name": "python3"
  },
  "language_info": {
   "codemirror_mode": {
    "name": "ipython",
    "version": 3
   },
   "file_extension": ".py",
   "mimetype": "text/x-python",
   "name": "python",
   "nbconvert_exporter": "python",
   "pygments_lexer": "ipython3",
   "version": "3.6.3"
  }
 },
 "nbformat": 4,
 "nbformat_minor": 2
}
